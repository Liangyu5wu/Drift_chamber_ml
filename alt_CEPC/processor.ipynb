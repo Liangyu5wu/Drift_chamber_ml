{
 "cells": [
  {
   "cell_type": "code",
   "execution_count": 5,
   "id": "8ddb59ff",
   "metadata": {},
   "outputs": [],
   "source": [
    "import uproot\n",
    "from tqdm import tqdm\n",
    "import numpy as np\n",
    "\n",
    "# txt files from\n",
    "# https://doi.org/10.57760/sciencedb.16322"
   ]
  },
  {
   "cell_type": "code",
   "execution_count": 7,
   "id": "12740d0f",
   "metadata": {},
   "outputs": [],
   "source": [
    "def read_root_file(filename, max_tags = 300):\n",
    "    # Open the file and access the TTree\n",
    "    with uproot.open(filename) as file:\n",
    "        tree = file[\"sim\"]\n",
    "\n",
    "        # Load branches\n",
    "        wf_i = tree[\"wf_i\"].array(library=\"np\")\n",
    "        mom = tree[\"mom\"].array(library=\"np\")\n",
    "        time = tree[\"time\"].array(library=\"np\")\n",
    "        tag = tree[\"tag\"].array(library=\"np\")\n",
    "\n",
    "        n_events = len(wf_i)\n",
    "\n",
    "        # Preallocate output array\n",
    "        result_dtype = np.dtype([\n",
    "            (\"wf_i\", np.float32, (3000,)),\n",
    "            (\"mom\", np.float32),\n",
    "            (\"tag_times\", np.int32, (max_tags,)),\n",
    "            (\"tag_values\", np.int32, (max_tags,))\n",
    "        ])\n",
    "        result = np.zeros(n_events, dtype=result_dtype)\n",
    "\n",
    "        for i in range(n_events):\n",
    "            result[i][\"wf_i\"] = wf_i[i]\n",
    "            result[i][\"mom\"] = mom[i]\n",
    "\n",
    "            tag_indices = np.where(tag[i] > 0)[0]\n",
    "            n_tags = min(len(tag_indices), max_tags)\n",
    "\n",
    "            # Fill the actual values, rest remains zero\n",
    "            result[i][\"tag_times\"][:n_tags] = time[i][tag_indices[:n_tags]]\n",
    "            result[i][\"tag_values\"][:n_tags] = tag[i][tag_indices[:n_tags]]\n",
    "\n",
    "    return result\n",
    "\n",
    "def process_multiple_files(file_list, output_file, max_tags = 300):\n",
    "    all_data = []\n",
    "\n",
    "    for filename in file_list:\n",
    "        print(f\"Processing: {filename}\")\n",
    "        data = read_root_file(filename, max_tags)\n",
    "        all_data.append(data)\n",
    "\n",
    "    combined_data = np.concatenate(all_data)\n",
    "    np.savez_compressed(output_file, \n",
    "                        wf_i = combined_data['wf_i'],\n",
    "                        mom = combined_data['mom'],\n",
    "                        tag_times = combined_data['tag_times'],\n",
    "                        tag_values = combined_data['tag_values'],)\n",
    "    print(f\"Saved combined data to {output_file}\")\n",
    "\n",
    "    return combined_data"
   ]
  },
  {
   "cell_type": "code",
   "execution_count": 9,
   "id": "beea27aa",
   "metadata": {},
   "outputs": [],
   "source": [
    "import os\n",
    "import numpy as np\n",
    "import requests\n",
    "from pathlib import Path\n",
    "from tqdm import tqdm\n",
    "\n",
    "from urllib.parse import urlparse, parse_qs\n",
    "\n",
    "def get_filename_from_url(url):\n",
    "    query = parse_qs(urlparse(url).query)\n",
    "    return query.get('fileName', [os.path.basename(urlparse(url).path)])[0]\n",
    "\n",
    "def download_file(url, output_dir):\n",
    "    filename = get_filename_from_url(url)\n",
    "    local_path = os.path.join(output_dir, filename)\n",
    "\n",
    "    if os.path.exists(local_path):\n",
    "        print(f\"File already exists: {local_path}\")\n",
    "        return local_path\n",
    "\n",
    "    try:\n",
    "        with requests.get(url, stream=True, timeout=60) as r:\n",
    "            r.raise_for_status()\n",
    "            total_size = int(r.headers.get('Content-Length', 0))\n",
    "            block_size = 1024 * 1024  # 1 MB\n",
    "            use_total = total_size > 0\n",
    "\n",
    "            desc = filename[:40] + (\"...\" if len(filename) > 40 else \"\")\n",
    "            t = tqdm(total=total_size if use_total else None,\n",
    "                     unit='iB', unit_scale=True, desc=desc)\n",
    "\n",
    "            with open(local_path, 'wb') as f:\n",
    "                for chunk in r.iter_content(chunk_size=block_size):\n",
    "                    if chunk:\n",
    "                        f.write(chunk)\n",
    "                        t.update(len(chunk))\n",
    "            t.close()\n",
    "\n",
    "        return local_path\n",
    "    except Exception as e:\n",
    "        print(f\"Failed to download {url}: {e}\")\n",
    "        return None\n",
    "\n",
    "def process_in_batches(url_file, output_dir, batch_size, max_tags):\n",
    "    # Make sure the output directory exists\n",
    "    os.makedirs(output_dir, exist_ok=True)\n",
    "\n",
    "    # Read all URLs\n",
    "    with open(url_file, 'r') as f:\n",
    "        urls = [line.strip() for line in f if line.strip()]\n",
    "\n",
    "    # Process in batches\n",
    "    for i in range(0, len(urls), batch_size):\n",
    "        batch_urls = urls[i:i+batch_size]\n",
    "        local_files = []\n",
    "\n",
    "        print(f\"Processing batch {i // batch_size + 1}...\")\n",
    "        for url in batch_urls:\n",
    "            local_path = download_file(url, output_dir)\n",
    "            local_files.append(local_path)\n",
    "\n",
    "        npz_name = os.path.join(output_dir, f\"batch_{i // batch_size}.npz\")\n",
    "        data = process_multiple_files(local_files, npz_name, max_tags)\n",
    "\n",
    "        # Clean up downloaded root files\n",
    "        for fpath in local_files:\n",
    "            os.remove(fpath)\n",
    "\n",
    "        print(f\"Saved {npz_name} and deleted temporary root files.\\n\")\n",
    "\n",
    "    return data"
   ]
  },
  {
   "cell_type": "code",
   "execution_count": 11,
   "id": "4b1270a5",
   "metadata": {},
   "outputs": [
    {
     "name": "stdout",
     "output_type": "stream",
     "text": [
      "Processing batch 1...\n"
     ]
    },
    {
     "name": "stderr",
     "output_type": "stream",
     "text": [
      "signal_noise05_PFtrain_20.root: 100%|███████| 403M/403M [00:55<00:00, 7.21MiB/s]\n",
      "signal_noise05_PFtrain_11.root: 100%|███████| 403M/403M [01:04<00:00, 6.20MiB/s]\n",
      "signal_noise05_PFtrain_18.root: 100%|███████| 403M/403M [00:45<00:00, 8.92MiB/s]\n",
      "signal_noise05_PFtrain_34.root: 100%|███████| 403M/403M [00:46<00:00, 8.75MiB/s]\n",
      "signal_noise05_PFtrain_12.root: 100%|███████| 403M/403M [00:59<00:00, 6.76MiB/s]\n",
      "signal_noise05_PFtrain_44.root: 100%|███████| 403M/403M [00:45<00:00, 8.83MiB/s]\n",
      "signal_noise05_PFtrain_9.root: 100%|████████| 403M/403M [01:07<00:00, 5.95MiB/s]\n",
      "signal_noise05_PFtrain_5.root: 100%|████████| 403M/403M [00:55<00:00, 7.29MiB/s]\n",
      "signal_noise05_PFtrain_10.root: 100%|███████| 403M/403M [00:48<00:00, 8.37MiB/s]\n",
      "signal_noise05_PFtrain_8.root: 100%|████████| 403M/403M [00:48<00:00, 8.36MiB/s]\n"
     ]
    },
    {
     "name": "stdout",
     "output_type": "stream",
     "text": [
      "Processing: processed_data_train/signal_noise05_PFtrain_20.root\n",
      "Processing: processed_data_train/signal_noise05_PFtrain_11.root\n",
      "Processing: processed_data_train/signal_noise05_PFtrain_18.root\n",
      "Processing: processed_data_train/signal_noise05_PFtrain_34.root\n",
      "Processing: processed_data_train/signal_noise05_PFtrain_12.root\n",
      "Processing: processed_data_train/signal_noise05_PFtrain_44.root\n",
      "Processing: processed_data_train/signal_noise05_PFtrain_9.root\n",
      "Processing: processed_data_train/signal_noise05_PFtrain_5.root\n",
      "Processing: processed_data_train/signal_noise05_PFtrain_10.root\n",
      "Processing: processed_data_train/signal_noise05_PFtrain_8.root\n",
      "Saved combined data to processed_data_train/batch_0.npz\n",
      "Saved processed_data_train/batch_0.npz and deleted temporary root files.\n",
      "\n",
      "Processing batch 2...\n"
     ]
    },
    {
     "name": "stderr",
     "output_type": "stream",
     "text": [
      "signal_noise05_PFtrain_16.root: 100%|███████| 403M/403M [00:53<00:00, 7.49MiB/s]\n",
      "signal_noise05_PFtrain_41.root: 100%|███████| 403M/403M [00:46<00:00, 8.72MiB/s]\n",
      "signal_noise05_PFtrain_6.root: 100%|████████| 403M/403M [00:48<00:00, 8.22MiB/s]\n",
      "signal_noise05_PFtrain_37.root: 100%|███████| 403M/403M [00:47<00:00, 8.50MiB/s]\n",
      "signal_noise05_PFtrain_47.root: 100%|███████| 403M/403M [00:49<00:00, 8.13MiB/s]\n",
      "signal_noise05_PFtrain_42.root: 100%|███████| 403M/403M [00:47<00:00, 8.42MiB/s]\n",
      "signal_noise05_PFtrain_25.root: 100%|███████| 403M/403M [00:47<00:00, 8.52MiB/s]\n",
      "signal_noise05_PFtrain_27.root: 100%|███████| 403M/403M [00:45<00:00, 8.90MiB/s]\n",
      "signal_noise05_PFtrain_30.root: 100%|███████| 403M/403M [00:47<00:00, 8.40MiB/s]\n",
      "signal_noise05_PFtrain_28.root: 100%|███████| 403M/403M [00:46<00:00, 8.74MiB/s]\n"
     ]
    },
    {
     "name": "stdout",
     "output_type": "stream",
     "text": [
      "Processing: processed_data_train/signal_noise05_PFtrain_16.root\n",
      "Processing: processed_data_train/signal_noise05_PFtrain_41.root\n",
      "Processing: processed_data_train/signal_noise05_PFtrain_6.root\n",
      "Processing: processed_data_train/signal_noise05_PFtrain_37.root\n",
      "Processing: processed_data_train/signal_noise05_PFtrain_47.root\n",
      "Processing: processed_data_train/signal_noise05_PFtrain_42.root\n",
      "Processing: processed_data_train/signal_noise05_PFtrain_25.root\n",
      "Processing: processed_data_train/signal_noise05_PFtrain_27.root\n",
      "Processing: processed_data_train/signal_noise05_PFtrain_30.root\n",
      "Processing: processed_data_train/signal_noise05_PFtrain_28.root\n",
      "Saved combined data to processed_data_train/batch_1.npz\n",
      "Saved processed_data_train/batch_1.npz and deleted temporary root files.\n",
      "\n",
      "Processing batch 3...\n"
     ]
    },
    {
     "name": "stderr",
     "output_type": "stream",
     "text": [
      "signal_noise05_PFtrain_0.root: 100%|████████| 403M/403M [00:50<00:00, 7.93MiB/s]\n",
      "signal_noise05_PFtrain_1.root: 100%|████████| 403M/403M [00:42<00:00, 9.50MiB/s]\n",
      "signal_noise05_PFtrain_46.root: 100%|███████| 403M/403M [00:42<00:00, 9.53MiB/s]\n",
      "signal_noise05_PFtrain_19.root: 100%|███████| 403M/403M [00:42<00:00, 9.50MiB/s]\n",
      "signal_noise05_PFtrain_14.root: 100%|███████| 403M/403M [00:52<00:00, 7.62MiB/s]\n",
      "signal_noise05_PFtrain_38.root: 100%|███████| 403M/403M [00:51<00:00, 7.86MiB/s]\n",
      "signal_noise05_PFtrain_49.root: 100%|███████| 403M/403M [00:53<00:00, 7.55MiB/s]\n",
      "signal_noise05_PFtrain_24.root: 100%|███████| 403M/403M [00:48<00:00, 8.35MiB/s]\n",
      "signal_noise05_PFtrain_31.root: 100%|███████| 403M/403M [00:47<00:00, 8.41MiB/s]\n",
      "signal_noise05_PFtrain_15.root: 100%|███████| 403M/403M [00:50<00:00, 7.99MiB/s]\n"
     ]
    },
    {
     "name": "stdout",
     "output_type": "stream",
     "text": [
      "Processing: processed_data_train/signal_noise05_PFtrain_0.root\n",
      "Processing: processed_data_train/signal_noise05_PFtrain_1.root\n",
      "Processing: processed_data_train/signal_noise05_PFtrain_46.root\n",
      "Processing: processed_data_train/signal_noise05_PFtrain_19.root\n",
      "Processing: processed_data_train/signal_noise05_PFtrain_14.root\n",
      "Processing: processed_data_train/signal_noise05_PFtrain_38.root\n",
      "Processing: processed_data_train/signal_noise05_PFtrain_49.root\n",
      "Processing: processed_data_train/signal_noise05_PFtrain_24.root\n",
      "Processing: processed_data_train/signal_noise05_PFtrain_31.root\n",
      "Processing: processed_data_train/signal_noise05_PFtrain_15.root\n",
      "Saved combined data to processed_data_train/batch_2.npz\n",
      "Saved processed_data_train/batch_2.npz and deleted temporary root files.\n",
      "\n",
      "Processing batch 4...\n"
     ]
    },
    {
     "name": "stderr",
     "output_type": "stream",
     "text": [
      "signal_noise05_PFtrain_40.root: 100%|███████| 403M/403M [01:00<00:00, 6.71MiB/s]\n",
      "signal_noise05_PFtrain_32.root: 100%|███████| 403M/403M [00:45<00:00, 8.87MiB/s]\n",
      "signal_noise05_PFtrain_13.root: 100%|███████| 403M/403M [00:44<00:00, 8.98MiB/s]\n",
      "signal_noise05_PFtrain_33.root: 100%|███████| 403M/403M [00:47<00:00, 8.39MiB/s]\n",
      "signal_noise05_PFtrain_48.root: 100%|███████| 403M/403M [00:51<00:00, 7.81MiB/s]\n",
      "signal_noise05_PFtrain_45.root: 100%|███████| 403M/403M [00:46<00:00, 8.69MiB/s]\n",
      "signal_noise05_PFtrain_17.root: 100%|███████| 403M/403M [00:45<00:00, 8.82MiB/s]\n",
      "signal_noise05_PFtrain_35.root: 100%|███████| 403M/403M [00:57<00:00, 7.02MiB/s]\n",
      "signal_noise05_PFtrain_21.root: 100%|███████| 403M/403M [00:46<00:00, 8.57MiB/s]\n",
      "signal_noise05_PFtrain_36.root: 100%|███████| 403M/403M [00:45<00:00, 8.82MiB/s]\n"
     ]
    },
    {
     "name": "stdout",
     "output_type": "stream",
     "text": [
      "Processing: processed_data_train/signal_noise05_PFtrain_40.root\n",
      "Processing: processed_data_train/signal_noise05_PFtrain_32.root\n",
      "Processing: processed_data_train/signal_noise05_PFtrain_13.root\n",
      "Processing: processed_data_train/signal_noise05_PFtrain_33.root\n",
      "Processing: processed_data_train/signal_noise05_PFtrain_48.root\n",
      "Processing: processed_data_train/signal_noise05_PFtrain_45.root\n",
      "Processing: processed_data_train/signal_noise05_PFtrain_17.root\n",
      "Processing: processed_data_train/signal_noise05_PFtrain_35.root\n",
      "Processing: processed_data_train/signal_noise05_PFtrain_21.root\n",
      "Processing: processed_data_train/signal_noise05_PFtrain_36.root\n",
      "Saved combined data to processed_data_train/batch_3.npz\n",
      "Saved processed_data_train/batch_3.npz and deleted temporary root files.\n",
      "\n",
      "Processing batch 5...\n"
     ]
    },
    {
     "name": "stderr",
     "output_type": "stream",
     "text": [
      "signal_noise05_PFtrain_26.root: 100%|███████| 403M/403M [00:55<00:00, 7.21MiB/s]\n",
      "signal_noise05_PFtrain_3.root: 100%|████████| 403M/403M [00:54<00:00, 7.41MiB/s]\n",
      "signal_noise05_PFtrain_22.root: 100%|███████| 403M/403M [01:05<00:00, 6.19MiB/s]\n",
      "signal_noise05_PFtrain_7.root: 100%|████████| 403M/403M [00:56<00:00, 7.17MiB/s]\n",
      "signal_noise05_PFtrain_23.root: 100%|███████| 403M/403M [00:55<00:00, 7.28MiB/s]\n",
      "signal_noise05_PFtrain_39.root: 100%|███████| 403M/403M [00:51<00:00, 7.82MiB/s]\n",
      "signal_noise05_PFtrain_29.root: 100%|███████| 403M/403M [00:55<00:00, 7.31MiB/s]\n",
      "signal_noise05_PFtrain_2.root: 100%|████████| 403M/403M [00:53<00:00, 7.56MiB/s]\n",
      "signal_noise05_PFtrain_43.root: 100%|███████| 403M/403M [00:52<00:00, 7.73MiB/s]\n",
      "signal_noise05_PFtrain_4.root: 100%|████████| 403M/403M [00:48<00:00, 8.26MiB/s]\n"
     ]
    },
    {
     "name": "stdout",
     "output_type": "stream",
     "text": [
      "Processing: processed_data_train/signal_noise05_PFtrain_26.root\n",
      "Processing: processed_data_train/signal_noise05_PFtrain_3.root\n",
      "Processing: processed_data_train/signal_noise05_PFtrain_22.root\n",
      "Processing: processed_data_train/signal_noise05_PFtrain_7.root\n",
      "Processing: processed_data_train/signal_noise05_PFtrain_23.root\n",
      "Processing: processed_data_train/signal_noise05_PFtrain_39.root\n",
      "Processing: processed_data_train/signal_noise05_PFtrain_29.root\n",
      "Processing: processed_data_train/signal_noise05_PFtrain_2.root\n",
      "Processing: processed_data_train/signal_noise05_PFtrain_43.root\n",
      "Processing: processed_data_train/signal_noise05_PFtrain_4.root\n",
      "Saved combined data to processed_data_train/batch_4.npz\n",
      "Saved processed_data_train/batch_4.npz and deleted temporary root files.\n",
      "\n"
     ]
    }
   ],
   "source": [
    "max_tags = 300\n",
    "\n",
    "data = process_in_batches(\"./peakfind_train.txt\", \"processed_data_train\", batch_size=10, max_tags=300)"
   ]
  },
  {
   "cell_type": "code",
   "execution_count": 13,
   "id": "70c47892",
   "metadata": {},
   "outputs": [
    {
     "name": "stdout",
     "output_type": "stream",
     "text": [
      "Processing batch 1...\n"
     ]
    },
    {
     "name": "stderr",
     "output_type": "stream",
     "text": [
      "signal_noise05_PFtest_6.root: 100%|█████████| 403M/403M [00:46<00:00, 8.67MiB/s]\n",
      "signal_noise05_PFtest_10.root: 100%|████████| 403M/403M [00:55<00:00, 7.23MiB/s]\n",
      "signal_noise05_PFtest_15.root: 100%|████████| 403M/403M [00:47<00:00, 8.55MiB/s]\n",
      "signal_noise05_PFtest_5.root: 100%|█████████| 403M/403M [00:53<00:00, 7.53MiB/s]\n",
      "signal_noise05_PFtest_22.root: 100%|████████| 403M/403M [00:45<00:00, 8.76MiB/s]\n",
      "signal_noise05_PFtest_27.root: 100%|████████| 403M/403M [00:46<00:00, 8.59MiB/s]\n",
      "signal_noise05_PFtest_17.root: 100%|████████| 403M/403M [00:45<00:00, 8.80MiB/s]\n",
      "signal_noise05_PFtest_45.root: 100%|████████| 403M/403M [00:45<00:00, 8.77MiB/s]\n",
      "signal_noise05_PFtest_42.root: 100%|████████| 403M/403M [00:46<00:00, 8.70MiB/s]\n",
      "signal_noise05_PFtest_34.root: 100%|████████| 403M/403M [00:47<00:00, 8.43MiB/s]\n"
     ]
    },
    {
     "name": "stdout",
     "output_type": "stream",
     "text": [
      "Processing: processed_data_test/signal_noise05_PFtest_6.root\n",
      "Processing: processed_data_test/signal_noise05_PFtest_10.root\n",
      "Processing: processed_data_test/signal_noise05_PFtest_15.root\n",
      "Processing: processed_data_test/signal_noise05_PFtest_5.root\n",
      "Processing: processed_data_test/signal_noise05_PFtest_22.root\n",
      "Processing: processed_data_test/signal_noise05_PFtest_27.root\n",
      "Processing: processed_data_test/signal_noise05_PFtest_17.root\n",
      "Processing: processed_data_test/signal_noise05_PFtest_45.root\n",
      "Processing: processed_data_test/signal_noise05_PFtest_42.root\n",
      "Processing: processed_data_test/signal_noise05_PFtest_34.root\n",
      "Saved combined data to processed_data_test/batch_0.npz\n",
      "Saved processed_data_test/batch_0.npz and deleted temporary root files.\n",
      "\n",
      "Processing batch 2...\n"
     ]
    },
    {
     "name": "stderr",
     "output_type": "stream",
     "text": [
      "signal_noise05_PFtest_40.root: 100%|████████| 403M/403M [00:49<00:00, 8.14MiB/s]\n",
      "signal_noise05_PFtest_31.root: 100%|████████| 403M/403M [00:47<00:00, 8.51MiB/s]\n",
      "signal_noise05_PFtest_43.root: 100%|████████| 403M/403M [00:46<00:00, 8.60MiB/s]\n",
      "signal_noise05_PFtest_49.root: 100%|████████| 403M/403M [00:49<00:00, 8.14MiB/s]\n",
      "signal_noise05_PFtest_13.root: 100%|████████| 403M/403M [00:47<00:00, 8.52MiB/s]\n",
      "signal_noise05_PFtest_9.root: 100%|█████████| 403M/403M [00:46<00:00, 8.74MiB/s]\n",
      "signal_noise05_PFtest_48.root: 100%|████████| 403M/403M [01:06<00:00, 6.10MiB/s]\n",
      "signal_noise05_PFtest_25.root: 100%|████████| 403M/403M [00:48<00:00, 8.32MiB/s]\n",
      "signal_noise05_PFtest_39.root: 100%|████████| 403M/403M [00:54<00:00, 7.36MiB/s]\n",
      "signal_noise05_PFtest_24.root: 100%|████████| 403M/403M [00:47<00:00, 8.49MiB/s]\n"
     ]
    },
    {
     "name": "stdout",
     "output_type": "stream",
     "text": [
      "Processing: processed_data_test/signal_noise05_PFtest_40.root\n",
      "Processing: processed_data_test/signal_noise05_PFtest_31.root\n",
      "Processing: processed_data_test/signal_noise05_PFtest_43.root\n",
      "Processing: processed_data_test/signal_noise05_PFtest_49.root\n",
      "Processing: processed_data_test/signal_noise05_PFtest_13.root\n",
      "Processing: processed_data_test/signal_noise05_PFtest_9.root\n",
      "Processing: processed_data_test/signal_noise05_PFtest_48.root\n",
      "Processing: processed_data_test/signal_noise05_PFtest_25.root\n",
      "Processing: processed_data_test/signal_noise05_PFtest_39.root\n",
      "Processing: processed_data_test/signal_noise05_PFtest_24.root\n",
      "Saved combined data to processed_data_test/batch_1.npz\n",
      "Saved processed_data_test/batch_1.npz and deleted temporary root files.\n",
      "\n",
      "Processing batch 3...\n"
     ]
    },
    {
     "name": "stderr",
     "output_type": "stream",
     "text": [
      "signal_noise05_PFtest_46.root: 100%|████████| 403M/403M [00:47<00:00, 8.44MiB/s]\n",
      "signal_noise05_PFtest_36.root: 100%|████████| 403M/403M [00:47<00:00, 8.45MiB/s]\n",
      "signal_noise05_PFtest_4.root: 100%|█████████| 403M/403M [00:45<00:00, 8.80MiB/s]\n",
      "signal_noise05_PFtest_33.root: 100%|████████| 403M/403M [00:45<00:00, 8.87MiB/s]\n",
      "signal_noise05_PFtest_47.root: 100%|████████| 403M/403M [00:44<00:00, 8.96MiB/s]\n",
      "signal_noise05_PFtest_2.root: 100%|█████████| 403M/403M [00:45<00:00, 8.91MiB/s]\n",
      "signal_noise05_PFtest_29.root: 100%|████████| 403M/403M [00:47<00:00, 8.54MiB/s]\n",
      "signal_noise05_PFtest_21.root: 100%|████████| 403M/403M [00:49<00:00, 8.06MiB/s]\n",
      "signal_noise05_PFtest_32.root: 100%|████████| 403M/403M [00:46<00:00, 8.58MiB/s]\n",
      "signal_noise05_PFtest_0.root: 100%|█████████| 403M/403M [00:46<00:00, 8.73MiB/s]\n"
     ]
    },
    {
     "name": "stdout",
     "output_type": "stream",
     "text": [
      "Processing: processed_data_test/signal_noise05_PFtest_46.root\n",
      "Processing: processed_data_test/signal_noise05_PFtest_36.root\n",
      "Processing: processed_data_test/signal_noise05_PFtest_4.root\n",
      "Processing: processed_data_test/signal_noise05_PFtest_33.root\n",
      "Processing: processed_data_test/signal_noise05_PFtest_47.root\n",
      "Processing: processed_data_test/signal_noise05_PFtest_2.root\n",
      "Processing: processed_data_test/signal_noise05_PFtest_29.root\n",
      "Processing: processed_data_test/signal_noise05_PFtest_21.root\n",
      "Processing: processed_data_test/signal_noise05_PFtest_32.root\n",
      "Processing: processed_data_test/signal_noise05_PFtest_0.root\n",
      "Saved combined data to processed_data_test/batch_2.npz\n",
      "Saved processed_data_test/batch_2.npz and deleted temporary root files.\n",
      "\n",
      "Processing batch 4...\n"
     ]
    },
    {
     "name": "stderr",
     "output_type": "stream",
     "text": [
      "signal_noise05_PFtest_38.root: 100%|████████| 403M/403M [00:46<00:00, 8.67MiB/s]\n",
      "signal_noise05_PFtest_16.root: 100%|████████| 403M/403M [00:46<00:00, 8.69MiB/s]\n",
      "signal_noise05_PFtest_12.root: 100%|████████| 403M/403M [00:52<00:00, 7.71MiB/s]\n",
      "signal_noise05_PFtest_26.root: 100%|████████| 403M/403M [00:49<00:00, 8.10MiB/s]\n",
      "signal_noise05_PFtest_44.root: 100%|████████| 403M/403M [00:55<00:00, 7.31MiB/s]\n",
      "signal_noise05_PFtest_28.root: 100%|████████| 403M/403M [00:50<00:00, 7.90MiB/s]\n",
      "signal_noise05_PFtest_14.root: 100%|████████| 403M/403M [00:50<00:00, 7.96MiB/s]\n",
      "signal_noise05_PFtest_11.root: 100%|████████| 403M/403M [00:46<00:00, 8.69MiB/s]\n",
      "signal_noise05_PFtest_35.root: 100%|████████| 403M/403M [00:47<00:00, 8.54MiB/s]\n",
      "signal_noise05_PFtest_19.root: 100%|████████| 403M/403M [00:46<00:00, 8.67MiB/s]\n"
     ]
    },
    {
     "name": "stdout",
     "output_type": "stream",
     "text": [
      "Processing: processed_data_test/signal_noise05_PFtest_38.root\n",
      "Processing: processed_data_test/signal_noise05_PFtest_16.root\n",
      "Processing: processed_data_test/signal_noise05_PFtest_12.root\n",
      "Processing: processed_data_test/signal_noise05_PFtest_26.root\n",
      "Processing: processed_data_test/signal_noise05_PFtest_44.root\n",
      "Processing: processed_data_test/signal_noise05_PFtest_28.root\n",
      "Processing: processed_data_test/signal_noise05_PFtest_14.root\n",
      "Processing: processed_data_test/signal_noise05_PFtest_11.root\n",
      "Processing: processed_data_test/signal_noise05_PFtest_35.root\n",
      "Processing: processed_data_test/signal_noise05_PFtest_19.root\n",
      "Saved combined data to processed_data_test/batch_3.npz\n",
      "Saved processed_data_test/batch_3.npz and deleted temporary root files.\n",
      "\n",
      "Processing batch 5...\n"
     ]
    },
    {
     "name": "stderr",
     "output_type": "stream",
     "text": [
      "signal_noise05_PFtest_8.root: 100%|█████████| 403M/403M [00:46<00:00, 8.66MiB/s]\n",
      "signal_noise05_PFtest_37.root: 100%|████████| 403M/403M [00:46<00:00, 8.75MiB/s]\n",
      "signal_noise05_PFtest_18.root: 100%|████████| 403M/403M [00:49<00:00, 8.22MiB/s]\n",
      "signal_noise05_PFtest_7.root: 100%|█████████| 403M/403M [00:48<00:00, 8.23MiB/s]\n",
      "signal_noise05_PFtest_23.root: 100%|████████| 403M/403M [00:46<00:00, 8.63MiB/s]\n",
      "signal_noise05_PFtest_3.root: 100%|█████████| 403M/403M [00:51<00:00, 7.78MiB/s]\n",
      "signal_noise05_PFtest_30.root: 100%|████████| 403M/403M [00:47<00:00, 8.54MiB/s]\n",
      "signal_noise05_PFtest_1.root: 100%|█████████| 403M/403M [00:46<00:00, 8.66MiB/s]\n",
      "signal_noise05_PFtest_41.root: 100%|████████| 403M/403M [00:45<00:00, 8.76MiB/s]\n",
      "signal_noise05_PFtest_20.root: 100%|████████| 403M/403M [00:47<00:00, 8.40MiB/s]\n"
     ]
    },
    {
     "name": "stdout",
     "output_type": "stream",
     "text": [
      "Processing: processed_data_test/signal_noise05_PFtest_8.root\n",
      "Processing: processed_data_test/signal_noise05_PFtest_37.root\n",
      "Processing: processed_data_test/signal_noise05_PFtest_18.root\n",
      "Processing: processed_data_test/signal_noise05_PFtest_7.root\n",
      "Processing: processed_data_test/signal_noise05_PFtest_23.root\n",
      "Processing: processed_data_test/signal_noise05_PFtest_3.root\n",
      "Processing: processed_data_test/signal_noise05_PFtest_30.root\n",
      "Processing: processed_data_test/signal_noise05_PFtest_1.root\n",
      "Processing: processed_data_test/signal_noise05_PFtest_41.root\n",
      "Processing: processed_data_test/signal_noise05_PFtest_20.root\n",
      "Saved combined data to processed_data_test/batch_4.npz\n",
      "Saved processed_data_test/batch_4.npz and deleted temporary root files.\n",
      "\n"
     ]
    },
    {
     "data": {
      "text/plain": [
       "array([([-3.54307354e-03, -2.43015252e-02, -2.11635064e-02, ..., -1.30251958e-03,  1.19383797e-01,  1.87852338e-01], 19.994886 , [ 124,  137,  208,  226,  282,  286,  299,  303,  315,  326,  335,  385,  391,  554,  756,  809,  989, 1120, 1190, 1209, 1319, 1337, 1362, 1506, 2998,    0,    0,    0,    0,    0,    0,    0,    0,    0,    0,    0,    0,    0,    0,    0,    0,    0,    0,    0,    0,    0,    0,    0,    0,    0,    0,    0,    0,    0,    0,    0,    0,    0,    0,    0,    0,    0,    0,    0,    0,    0,    0,    0,    0,    0,    0,    0,    0,    0,    0,    0,    0,    0,    0,    0,    0,    0,    0,    0,    0,    0,    0,    0,    0,    0,    0,    0,    0,    0,    0,    0,    0,    0,    0,    0,    0,    0,    0,    0,    0,    0,    0,    0,    0,    0,    0,    0,    0,    0,    0,    0,    0,    0,    0,    0,    0,    0,    0,    0,    0,    0,    0,    0,    0,    0,    0,    0,    0,    0,    0,    0,    0,    0,    0,    0,    0,    0,    0,    0,    0,    0,    0,    0,    0,    0,    0,    0,    0,    0,    0,    0,    0,    0,    0,    0,    0,    0,    0,    0,    0,    0,    0,    0,    0,    0,    0,    0,    0,    0,    0,    0,    0,    0,    0,    0,    0,    0,    0,    0,    0,    0,    0,    0,    0,    0,    0,    0,    0,    0,    0,    0,    0,    0,    0,    0,    0,    0,    0,    0,    0,    0,    0,    0,    0,    0,    0,    0,    0,    0,    0,    0,    0,    0,    0,    0,    0,    0,    0,    0,    0,    0,    0,    0,    0,    0,    0,    0,    0,    0,    0,    0,    0,    0,    0,    0,    0,    0,    0,    0,    0,    0,    0,    0,    0,    0,    0,    0,    0,    0,    0,    0,    0,    0,    0,    0,    0,    0,    0,    0,    0,    0,    0,    0,    0,    0,    0,    0,    0,    0,    0,    0,    0,    0,    0,    0,    0,    0,    0,    0,    0,    0,    0,    0,    0,    0,    0,    0,    0,    0,    0,    0,    0,    0,    0,    0], [1, 1, 1, 1, 1, 1, 1, 1, 2, 2, 1, 1, 1, 1, 1, 1, 1, 1, 1, 1, 1, 1, 1, 1, 1, 0, 0, 0, 0, 0, 0, 0, 0, 0, 0, 0, 0, 0, 0, 0, 0, 0, 0, 0, 0, 0, 0, 0, 0, 0, 0, 0, 0, 0, 0, 0, 0, 0, 0, 0, 0, 0, 0, 0, 0, 0, 0, 0, 0, 0, 0, 0, 0, 0, 0, 0, 0, 0, 0, 0, 0, 0, 0, 0, 0, 0, 0, 0, 0, 0, 0, 0, 0, 0, 0, 0, 0, 0, 0, 0, 0, 0, 0, 0, 0, 0, 0, 0, 0, 0, 0, 0, 0, 0, 0, 0, 0, 0, 0, 0, 0, 0, 0, 0, 0, 0, 0, 0, 0, 0, 0, 0, 0, 0, 0, 0, 0, 0, 0, 0, 0, 0, 0, 0, 0, 0, 0, 0, 0, 0, 0, 0, 0, 0, 0, 0, 0, 0, 0, 0, 0, 0, 0, 0, 0, 0, 0, 0, 0, 0, 0, 0, 0, 0, 0, 0, 0, 0, 0, 0, 0, 0, 0, 0, 0, 0, 0, 0, 0, 0, 0, 0, 0, 0, 0, 0, 0, 0, 0, 0, 0, 0, 0, 0, 0, 0, 0, 0, 0, 0, 0, 0, 0, 0, 0, 0, 0, 0, 0, 0, 0, 0, 0, 0, 0, 0, 0, 0, 0, 0, 0, 0, 0, 0, 0, 0, 0, 0, 0, 0, 0, 0, 0, 0, 0, 0, 0, 0, 0, 0, 0, 0, 0, 0, 0, 0, 0, 0, 0, 0, 0, 0, 0, 0, 0, 0, 0, 0, 0, 0, 0, 0, 0, 0, 0, 0, 0, 0, 0, 0, 0, 0, 0, 0, 0, 0, 0, 0, 0, 0, 0, 0, 0, 0, 0, 0, 0, 0, 0, 0]),\n",
       "       ([ 6.55367156e-04,  8.63148458e-03,  9.30173974e-03, ..., -1.28589906e-02,  1.51686212e-02,  2.88590211e-02], 10.138006 , [   1,  127,  128,  133,  144,  145,  149,  166,  177,  192,  203,  205,  250,  361,  365,  368,  373,  407,  435,  445,  595,  603,  649,  953,  984, 1029, 1114, 1252, 1269, 1456, 1490, 1990,    0,    0,    0,    0,    0,    0,    0,    0,    0,    0,    0,    0,    0,    0,    0,    0,    0,    0,    0,    0,    0,    0,    0,    0,    0,    0,    0,    0,    0,    0,    0,    0,    0,    0,    0,    0,    0,    0,    0,    0,    0,    0,    0,    0,    0,    0,    0,    0,    0,    0,    0,    0,    0,    0,    0,    0,    0,    0,    0,    0,    0,    0,    0,    0,    0,    0,    0,    0,    0,    0,    0,    0,    0,    0,    0,    0,    0,    0,    0,    0,    0,    0,    0,    0,    0,    0,    0,    0,    0,    0,    0,    0,    0,    0,    0,    0,    0,    0,    0,    0,    0,    0,    0,    0,    0,    0,    0,    0,    0,    0,    0,    0,    0,    0,    0,    0,    0,    0,    0,    0,    0,    0,    0,    0,    0,    0,    0,    0,    0,    0,    0,    0,    0,    0,    0,    0,    0,    0,    0,    0,    0,    0,    0,    0,    0,    0,    0,    0,    0,    0,    0,    0,    0,    0,    0,    0,    0,    0,    0,    0,    0,    0,    0,    0,    0,    0,    0,    0,    0,    0,    0,    0,    0,    0,    0,    0,    0,    0,    0,    0,    0,    0,    0,    0,    0,    0,    0,    0,    0,    0,    0,    0,    0,    0,    0,    0,    0,    0,    0,    0,    0,    0,    0,    0,    0,    0,    0,    0,    0,    0,    0,    0,    0,    0,    0,    0,    0,    0,    0,    0,    0,    0,    0,    0,    0,    0,    0,    0,    0,    0,    0,    0,    0,    0,    0,    0,    0,    0,    0,    0,    0,    0,    0,    0,    0,    0,    0,    0,    0,    0,    0,    0,    0,    0,    0,    0,    0,    0,    0,    0,    0,    0,    0,    0,    0,    0,    0,    0], [1, 1, 1, 1, 1, 1, 1, 1, 1, 1, 2, 2, 1, 2, 1, 1, 1, 1, 1, 1, 1, 1, 1, 1, 1, 1, 1, 1, 1, 1, 1, 1, 0, 0, 0, 0, 0, 0, 0, 0, 0, 0, 0, 0, 0, 0, 0, 0, 0, 0, 0, 0, 0, 0, 0, 0, 0, 0, 0, 0, 0, 0, 0, 0, 0, 0, 0, 0, 0, 0, 0, 0, 0, 0, 0, 0, 0, 0, 0, 0, 0, 0, 0, 0, 0, 0, 0, 0, 0, 0, 0, 0, 0, 0, 0, 0, 0, 0, 0, 0, 0, 0, 0, 0, 0, 0, 0, 0, 0, 0, 0, 0, 0, 0, 0, 0, 0, 0, 0, 0, 0, 0, 0, 0, 0, 0, 0, 0, 0, 0, 0, 0, 0, 0, 0, 0, 0, 0, 0, 0, 0, 0, 0, 0, 0, 0, 0, 0, 0, 0, 0, 0, 0, 0, 0, 0, 0, 0, 0, 0, 0, 0, 0, 0, 0, 0, 0, 0, 0, 0, 0, 0, 0, 0, 0, 0, 0, 0, 0, 0, 0, 0, 0, 0, 0, 0, 0, 0, 0, 0, 0, 0, 0, 0, 0, 0, 0, 0, 0, 0, 0, 0, 0, 0, 0, 0, 0, 0, 0, 0, 0, 0, 0, 0, 0, 0, 0, 0, 0, 0, 0, 0, 0, 0, 0, 0, 0, 0, 0, 0, 0, 0, 0, 0, 0, 0, 0, 0, 0, 0, 0, 0, 0, 0, 0, 0, 0, 0, 0, 0, 0, 0, 0, 0, 0, 0, 0, 0, 0, 0, 0, 0, 0, 0, 0, 0, 0, 0, 0, 0, 0, 0, 0, 0, 0, 0, 0, 0, 0, 0, 0, 0, 0, 0, 0, 0, 0, 0, 0, 0, 0, 0, 0, 0, 0, 0, 0, 0, 0, 0]),\n",
       "       ([-2.30629593e-02, -3.87235545e-02, -3.72583792e-02, ...,  2.44955365e-02, -2.76371278e-02, -4.23360150e-03],  2.4387748, [ 140,  150,  253,  471,  538,  550,  555,  570,  572,  577,  578,  583,  584,  593,  595,  597,  601,  603,  685,  853, 1019, 1250, 1372, 1432, 1455, 2143,    0,    0,    0,    0,    0,    0,    0,    0,    0,    0,    0,    0,    0,    0,    0,    0,    0,    0,    0,    0,    0,    0,    0,    0,    0,    0,    0,    0,    0,    0,    0,    0,    0,    0,    0,    0,    0,    0,    0,    0,    0,    0,    0,    0,    0,    0,    0,    0,    0,    0,    0,    0,    0,    0,    0,    0,    0,    0,    0,    0,    0,    0,    0,    0,    0,    0,    0,    0,    0,    0,    0,    0,    0,    0,    0,    0,    0,    0,    0,    0,    0,    0,    0,    0,    0,    0,    0,    0,    0,    0,    0,    0,    0,    0,    0,    0,    0,    0,    0,    0,    0,    0,    0,    0,    0,    0,    0,    0,    0,    0,    0,    0,    0,    0,    0,    0,    0,    0,    0,    0,    0,    0,    0,    0,    0,    0,    0,    0,    0,    0,    0,    0,    0,    0,    0,    0,    0,    0,    0,    0,    0,    0,    0,    0,    0,    0,    0,    0,    0,    0,    0,    0,    0,    0,    0,    0,    0,    0,    0,    0,    0,    0,    0,    0,    0,    0,    0,    0,    0,    0,    0,    0,    0,    0,    0,    0,    0,    0,    0,    0,    0,    0,    0,    0,    0,    0,    0,    0,    0,    0,    0,    0,    0,    0,    0,    0,    0,    0,    0,    0,    0,    0,    0,    0,    0,    0,    0,    0,    0,    0,    0,    0,    0,    0,    0,    0,    0,    0,    0,    0,    0,    0,    0,    0,    0,    0,    0,    0,    0,    0,    0,    0,    0,    0,    0,    0,    0,    0,    0,    0,    0,    0,    0,    0,    0,    0,    0,    0,    0,    0,    0,    0,    0,    0,    0,    0,    0,    0,    0,    0,    0,    0,    0,    0,    0,    0,    0,    0,    0,    0,    0,    0,    0,    0], [1, 1, 1, 1, 2, 1, 2, 2, 2, 2, 2, 1, 2, 1, 2, 1, 2, 2, 1, 1, 1, 1, 1, 1, 1, 1, 0, 0, 0, 0, 0, 0, 0, 0, 0, 0, 0, 0, 0, 0, 0, 0, 0, 0, 0, 0, 0, 0, 0, 0, 0, 0, 0, 0, 0, 0, 0, 0, 0, 0, 0, 0, 0, 0, 0, 0, 0, 0, 0, 0, 0, 0, 0, 0, 0, 0, 0, 0, 0, 0, 0, 0, 0, 0, 0, 0, 0, 0, 0, 0, 0, 0, 0, 0, 0, 0, 0, 0, 0, 0, 0, 0, 0, 0, 0, 0, 0, 0, 0, 0, 0, 0, 0, 0, 0, 0, 0, 0, 0, 0, 0, 0, 0, 0, 0, 0, 0, 0, 0, 0, 0, 0, 0, 0, 0, 0, 0, 0, 0, 0, 0, 0, 0, 0, 0, 0, 0, 0, 0, 0, 0, 0, 0, 0, 0, 0, 0, 0, 0, 0, 0, 0, 0, 0, 0, 0, 0, 0, 0, 0, 0, 0, 0, 0, 0, 0, 0, 0, 0, 0, 0, 0, 0, 0, 0, 0, 0, 0, 0, 0, 0, 0, 0, 0, 0, 0, 0, 0, 0, 0, 0, 0, 0, 0, 0, 0, 0, 0, 0, 0, 0, 0, 0, 0, 0, 0, 0, 0, 0, 0, 0, 0, 0, 0, 0, 0, 0, 0, 0, 0, 0, 0, 0, 0, 0, 0, 0, 0, 0, 0, 0, 0, 0, 0, 0, 0, 0, 0, 0, 0, 0, 0, 0, 0, 0, 0, 0, 0, 0, 0, 0, 0, 0, 0, 0, 0, 0, 0, 0, 0, 0, 0, 0, 0, 0, 0, 0, 0, 0, 0, 0, 0, 0, 0, 0, 0, 0, 0, 0, 0, 0, 0, 0, 0, 0, 0, 0, 0, 0, 0]),\n",
       "       ...,\n",
       "       ([ 8.18703044e-03,  3.66843902e-02,  1.70725193e-02, ...,  4.23312299e-02,  2.88037602e-02,  3.62996235e-02], 15.508576 , [   1,  119,  134,  137,  142,  158,  212,  240,  244,  292,  306,  333,  336,  434,  437,  458,  496,  552,  662,  682,  746,  781,  804,  843,  917,  927,  968, 1057, 1158, 1195, 1312, 1342, 1428, 1590, 2023, 2152, 2803,    0,    0,    0,    0,    0,    0,    0,    0,    0,    0,    0,    0,    0,    0,    0,    0,    0,    0,    0,    0,    0,    0,    0,    0,    0,    0,    0,    0,    0,    0,    0,    0,    0,    0,    0,    0,    0,    0,    0,    0,    0,    0,    0,    0,    0,    0,    0,    0,    0,    0,    0,    0,    0,    0,    0,    0,    0,    0,    0,    0,    0,    0,    0,    0,    0,    0,    0,    0,    0,    0,    0,    0,    0,    0,    0,    0,    0,    0,    0,    0,    0,    0,    0,    0,    0,    0,    0,    0,    0,    0,    0,    0,    0,    0,    0,    0,    0,    0,    0,    0,    0,    0,    0,    0,    0,    0,    0,    0,    0,    0,    0,    0,    0,    0,    0,    0,    0,    0,    0,    0,    0,    0,    0,    0,    0,    0,    0,    0,    0,    0,    0,    0,    0,    0,    0,    0,    0,    0,    0,    0,    0,    0,    0,    0,    0,    0,    0,    0,    0,    0,    0,    0,    0,    0,    0,    0,    0,    0,    0,    0,    0,    0,    0,    0,    0,    0,    0,    0,    0,    0,    0,    0,    0,    0,    0,    0,    0,    0,    0,    0,    0,    0,    0,    0,    0,    0,    0,    0,    0,    0,    0,    0,    0,    0,    0,    0,    0,    0,    0,    0,    0,    0,    0,    0,    0,    0,    0,    0,    0,    0,    0,    0,    0,    0,    0,    0,    0,    0,    0,    0,    0,    0,    0,    0,    0,    0,    0,    0,    0,    0,    0,    0,    0,    0,    0,    0,    0,    0,    0,    0,    0,    0,    0,    0,    0,    0,    0,    0,    0,    0,    0,    0,    0,    0,    0,    0,    0,    0,    0,    0,    0,    0,    0], [1, 2, 1, 2, 1, 1, 1, 1, 1, 1, 1, 1, 1, 1, 1, 1, 1, 1, 1, 1, 1, 1, 2, 1, 1, 1, 1, 1, 1, 1, 1, 1, 1, 1, 1, 1, 1, 0, 0, 0, 0, 0, 0, 0, 0, 0, 0, 0, 0, 0, 0, 0, 0, 0, 0, 0, 0, 0, 0, 0, 0, 0, 0, 0, 0, 0, 0, 0, 0, 0, 0, 0, 0, 0, 0, 0, 0, 0, 0, 0, 0, 0, 0, 0, 0, 0, 0, 0, 0, 0, 0, 0, 0, 0, 0, 0, 0, 0, 0, 0, 0, 0, 0, 0, 0, 0, 0, 0, 0, 0, 0, 0, 0, 0, 0, 0, 0, 0, 0, 0, 0, 0, 0, 0, 0, 0, 0, 0, 0, 0, 0, 0, 0, 0, 0, 0, 0, 0, 0, 0, 0, 0, 0, 0, 0, 0, 0, 0, 0, 0, 0, 0, 0, 0, 0, 0, 0, 0, 0, 0, 0, 0, 0, 0, 0, 0, 0, 0, 0, 0, 0, 0, 0, 0, 0, 0, 0, 0, 0, 0, 0, 0, 0, 0, 0, 0, 0, 0, 0, 0, 0, 0, 0, 0, 0, 0, 0, 0, 0, 0, 0, 0, 0, 0, 0, 0, 0, 0, 0, 0, 0, 0, 0, 0, 0, 0, 0, 0, 0, 0, 0, 0, 0, 0, 0, 0, 0, 0, 0, 0, 0, 0, 0, 0, 0, 0, 0, 0, 0, 0, 0, 0, 0, 0, 0, 0, 0, 0, 0, 0, 0, 0, 0, 0, 0, 0, 0, 0, 0, 0, 0, 0, 0, 0, 0, 0, 0, 0, 0, 0, 0, 0, 0, 0, 0, 0, 0, 0, 0, 0, 0, 0, 0, 0, 0, 0, 0, 0, 0, 0, 0, 0, 0, 0, 0, 0, 0, 0, 0, 0]),\n",
       "       ([-6.49502443e-04, -1.61731802e-02,  1.92433652e-02, ..., -1.06126824e-02,  1.20790033e-02,  2.51584817e-02], 12.798287 , [ 127,  134,  148,  167,  183,  197,  233,  234,  274,  303,  310,  335,  430,  474,  484,  493,  587,  593,  710,  723,  729,  807,  808,  824,  971,  999, 1209, 1222, 1337, 1471, 1632, 1884, 2019, 2312,    0,    0,    0,    0,    0,    0,    0,    0,    0,    0,    0,    0,    0,    0,    0,    0,    0,    0,    0,    0,    0,    0,    0,    0,    0,    0,    0,    0,    0,    0,    0,    0,    0,    0,    0,    0,    0,    0,    0,    0,    0,    0,    0,    0,    0,    0,    0,    0,    0,    0,    0,    0,    0,    0,    0,    0,    0,    0,    0,    0,    0,    0,    0,    0,    0,    0,    0,    0,    0,    0,    0,    0,    0,    0,    0,    0,    0,    0,    0,    0,    0,    0,    0,    0,    0,    0,    0,    0,    0,    0,    0,    0,    0,    0,    0,    0,    0,    0,    0,    0,    0,    0,    0,    0,    0,    0,    0,    0,    0,    0,    0,    0,    0,    0,    0,    0,    0,    0,    0,    0,    0,    0,    0,    0,    0,    0,    0,    0,    0,    0,    0,    0,    0,    0,    0,    0,    0,    0,    0,    0,    0,    0,    0,    0,    0,    0,    0,    0,    0,    0,    0,    0,    0,    0,    0,    0,    0,    0,    0,    0,    0,    0,    0,    0,    0,    0,    0,    0,    0,    0,    0,    0,    0,    0,    0,    0,    0,    0,    0,    0,    0,    0,    0,    0,    0,    0,    0,    0,    0,    0,    0,    0,    0,    0,    0,    0,    0,    0,    0,    0,    0,    0,    0,    0,    0,    0,    0,    0,    0,    0,    0,    0,    0,    0,    0,    0,    0,    0,    0,    0,    0,    0,    0,    0,    0,    0,    0,    0,    0,    0,    0,    0,    0,    0,    0,    0,    0,    0,    0,    0,    0,    0,    0,    0,    0,    0,    0,    0,    0,    0,    0,    0,    0,    0,    0,    0,    0,    0,    0,    0,    0,    0,    0,    0,    0,    0], [1, 1, 1, 1, 1, 1, 1, 1, 1, 1, 1, 1, 1, 1, 1, 1, 1, 1, 1, 1, 1, 1, 1, 1, 1, 1, 1, 1, 1, 1, 1, 1, 1, 1, 0, 0, 0, 0, 0, 0, 0, 0, 0, 0, 0, 0, 0, 0, 0, 0, 0, 0, 0, 0, 0, 0, 0, 0, 0, 0, 0, 0, 0, 0, 0, 0, 0, 0, 0, 0, 0, 0, 0, 0, 0, 0, 0, 0, 0, 0, 0, 0, 0, 0, 0, 0, 0, 0, 0, 0, 0, 0, 0, 0, 0, 0, 0, 0, 0, 0, 0, 0, 0, 0, 0, 0, 0, 0, 0, 0, 0, 0, 0, 0, 0, 0, 0, 0, 0, 0, 0, 0, 0, 0, 0, 0, 0, 0, 0, 0, 0, 0, 0, 0, 0, 0, 0, 0, 0, 0, 0, 0, 0, 0, 0, 0, 0, 0, 0, 0, 0, 0, 0, 0, 0, 0, 0, 0, 0, 0, 0, 0, 0, 0, 0, 0, 0, 0, 0, 0, 0, 0, 0, 0, 0, 0, 0, 0, 0, 0, 0, 0, 0, 0, 0, 0, 0, 0, 0, 0, 0, 0, 0, 0, 0, 0, 0, 0, 0, 0, 0, 0, 0, 0, 0, 0, 0, 0, 0, 0, 0, 0, 0, 0, 0, 0, 0, 0, 0, 0, 0, 0, 0, 0, 0, 0, 0, 0, 0, 0, 0, 0, 0, 0, 0, 0, 0, 0, 0, 0, 0, 0, 0, 0, 0, 0, 0, 0, 0, 0, 0, 0, 0, 0, 0, 0, 0, 0, 0, 0, 0, 0, 0, 0, 0, 0, 0, 0, 0, 0, 0, 0, 0, 0, 0, 0, 0, 0, 0, 0, 0, 0, 0, 0, 0, 0, 0, 0, 0, 0, 0, 0, 0, 0, 0, 0, 0, 0, 0, 0]),\n",
       "       ([-2.60318648e-02, -5.67093398e-03, -1.74196865e-02, ...,  4.40673381e-02,  1.90731529e-02,  1.72602870e-02],  9.904898 , [   1,  125,  132,  135,  156,  165,  169,  170,  229,  247,  268,  274,  285,  347,  360,  457,  493,  497,  512,  541,  685,  759,  779,  875,  897,  921, 1027, 1043, 1044, 1060, 1073, 1074, 1083, 1085, 1086, 1093, 1097, 1106, 1190, 1254, 1270, 1277, 1342, 1400, 1426, 1427, 1430, 1455, 1566, 2121,    0,    0,    0,    0,    0,    0,    0,    0,    0,    0,    0,    0,    0,    0,    0,    0,    0,    0,    0,    0,    0,    0,    0,    0,    0,    0,    0,    0,    0,    0,    0,    0,    0,    0,    0,    0,    0,    0,    0,    0,    0,    0,    0,    0,    0,    0,    0,    0,    0,    0,    0,    0,    0,    0,    0,    0,    0,    0,    0,    0,    0,    0,    0,    0,    0,    0,    0,    0,    0,    0,    0,    0,    0,    0,    0,    0,    0,    0,    0,    0,    0,    0,    0,    0,    0,    0,    0,    0,    0,    0,    0,    0,    0,    0,    0,    0,    0,    0,    0,    0,    0,    0,    0,    0,    0,    0,    0,    0,    0,    0,    0,    0,    0,    0,    0,    0,    0,    0,    0,    0,    0,    0,    0,    0,    0,    0,    0,    0,    0,    0,    0,    0,    0,    0,    0,    0,    0,    0,    0,    0,    0,    0,    0,    0,    0,    0,    0,    0,    0,    0,    0,    0,    0,    0,    0,    0,    0,    0,    0,    0,    0,    0,    0,    0,    0,    0,    0,    0,    0,    0,    0,    0,    0,    0,    0,    0,    0,    0,    0,    0,    0,    0,    0,    0,    0,    0,    0,    0,    0,    0,    0,    0,    0,    0,    0,    0,    0,    0,    0,    0,    0,    0,    0,    0,    0,    0,    0,    0,    0,    0,    0,    0,    0,    0,    0,    0,    0,    0,    0,    0,    0,    0,    0,    0,    0,    0,    0,    0,    0,    0,    0,    0,    0,    0,    0,    0,    0,    0,    0,    0,    0,    0,    0,    0,    0,    0,    0,    0,    0,    0], [1, 1, 1, 1, 1, 1, 1, 1, 1, 1, 1, 1, 1, 1, 2, 1, 1, 1, 1, 1, 1, 1, 1, 1, 1, 1, 2, 2, 2, 2, 2, 2, 2, 2, 2, 1, 1, 2, 1, 1, 1, 1, 1, 1, 1, 1, 1, 1, 1, 1, 0, 0, 0, 0, 0, 0, 0, 0, 0, 0, 0, 0, 0, 0, 0, 0, 0, 0, 0, 0, 0, 0, 0, 0, 0, 0, 0, 0, 0, 0, 0, 0, 0, 0, 0, 0, 0, 0, 0, 0, 0, 0, 0, 0, 0, 0, 0, 0, 0, 0, 0, 0, 0, 0, 0, 0, 0, 0, 0, 0, 0, 0, 0, 0, 0, 0, 0, 0, 0, 0, 0, 0, 0, 0, 0, 0, 0, 0, 0, 0, 0, 0, 0, 0, 0, 0, 0, 0, 0, 0, 0, 0, 0, 0, 0, 0, 0, 0, 0, 0, 0, 0, 0, 0, 0, 0, 0, 0, 0, 0, 0, 0, 0, 0, 0, 0, 0, 0, 0, 0, 0, 0, 0, 0, 0, 0, 0, 0, 0, 0, 0, 0, 0, 0, 0, 0, 0, 0, 0, 0, 0, 0, 0, 0, 0, 0, 0, 0, 0, 0, 0, 0, 0, 0, 0, 0, 0, 0, 0, 0, 0, 0, 0, 0, 0, 0, 0, 0, 0, 0, 0, 0, 0, 0, 0, 0, 0, 0, 0, 0, 0, 0, 0, 0, 0, 0, 0, 0, 0, 0, 0, 0, 0, 0, 0, 0, 0, 0, 0, 0, 0, 0, 0, 0, 0, 0, 0, 0, 0, 0, 0, 0, 0, 0, 0, 0, 0, 0, 0, 0, 0, 0, 0, 0, 0, 0, 0, 0, 0, 0, 0, 0, 0, 0, 0, 0, 0, 0, 0, 0, 0, 0, 0, 0, 0, 0, 0, 0, 0, 0])],\n",
       "      dtype=[('wf_i', '<f4', (3000,)), ('mom', '<f4'), ('tag_times', '<i4', (300,)), ('tag_values', '<i4', (300,))])"
      ]
     },
     "execution_count": 13,
     "metadata": {},
     "output_type": "execute_result"
    }
   ],
   "source": [
    "process_in_batches(\"./peakfind_test.txt\", \"processed_data_test\", batch_size=10, max_tags=300)"
   ]
  },
  {
   "cell_type": "code",
   "execution_count": 15,
   "id": "2098db29",
   "metadata": {},
   "outputs": [
    {
     "name": "stdout",
     "output_type": "stream",
     "text": [
      "(100000, 3000)\n",
      "(100000,)\n",
      "(100000, 300)\n",
      "(100000, 300)\n"
     ]
    }
   ],
   "source": [
    "print(data['wf_i'].shape)\n",
    "print(data['mom'].shape)\n",
    "print(data['tag_times'].shape)\n",
    "print(data['tag_values'].shape)"
   ]
  },
  {
   "cell_type": "code",
   "execution_count": 25,
   "id": "13ef5dec",
   "metadata": {},
   "outputs": [
    {
     "name": "stdout",
     "output_type": "stream",
     "text": [
      "[ 0.01372382 -0.00381347  0.02392138 ...  0.04399255  0.04196985\n",
      "  0.03770616]\n"
     ]
    }
   ],
   "source": [
    "print(data['wf_i'][0])\n",
    "#print(data['mom'][0])\n",
    "#print(data['tag_times'][0])\n",
    "# print(data['tag_values'][0])\n",
    "\n",
    "# print(data['tag_mask'][0])"
   ]
  },
  {
   "cell_type": "code",
   "execution_count": 27,
   "id": "e015df65",
   "metadata": {},
   "outputs": [],
   "source": [
    "import matplotlib.pyplot as plt"
   ]
  },
  {
   "cell_type": "code",
   "execution_count": 29,
   "id": "c8d27d28",
   "metadata": {},
   "outputs": [
    {
     "data": {
      "text/plain": [
       "(0.0, 2.366558080166578)"
      ]
     },
     "execution_count": 29,
     "metadata": {},
     "output_type": "execute_result"
    },
    {
     "data": {
      "image/png": "[encoded data removed]",
      "text/plain": [
       "<Figure size 640x480 with 1 Axes>"
      ]
     },
     "metadata": {},
     "output_type": "display_data"
    }
   ],
   "source": [
    "iev = 0\n",
    "plt.scatter(np.arange(data['wf_i'][iev].shape[0]),data['wf_i'][iev],s=0.1);\n",
    "plt.scatter(data['tag_times'][iev,data['tag_values'][iev]==1],data['wf_i'][iev][data['tag_times'][iev,data['tag_values'][iev]==1]],s=0.6,color='r')\n",
    "plt.scatter(data['tag_times'][iev,data['tag_values'][iev]==2],data['wf_i'][iev][data['tag_times'][iev,data['tag_values'][iev]==2]],s=0.4,color='g')\n",
    "plt.ylim(0)"
   ]
  },
  {
   "cell_type": "code",
   "execution_count": 41,
   "id": "a04f9788",
   "metadata": {},
   "outputs": [
    {
     "data": {
      "text/plain": [
       "(0.0, 1.9806983549147845)"
      ]
     },
     "execution_count": 41,
     "metadata": {},
     "output_type": "execute_result"
    },
    {
     "data": {
      "image/png": "[encoded data removed]",
      "text/plain": [
       "<Figure size 640x480 with 1 Axes>"
      ]
     },
     "metadata": {},
     "output_type": "display_data"
    }
   ],
   "source": [
    "iev = 10\n",
    "plt.scatter(np.arange(data['wf_i'][iev].shape[0]),data['wf_i'][iev],s=0.1);\n",
    "plt.scatter(data['tag_times'][iev,data['tag_values'][iev]==1],data['wf_i'][iev][data['tag_times'][iev,data['tag_values'][iev]==1]],s=8.0,color='r')\n",
    "plt.scatter(data['tag_times'][iev,data['tag_values'][iev]==2],data['wf_i'][iev][data['tag_times'][iev,data['tag_values'][iev]==2]],s=8.0,color='g')\n",
    "plt.ylim(0)"
   ]
  },
  {
   "cell_type": "code",
   "execution_count": null,
   "id": "c57225d6-c117-4185-a379-4d187c0c38dd",
   "metadata": {},
   "outputs": [],
   "source": [
    "iev = 30\n",
    "plt.scatter(np.arange(data['wf_i'][iev].shape[0]),data['wf_i'][iev],s=0.1);\n",
    "plt.scatter(data['tag_times'][iev,data['tag_values'][iev]==1],data['wf_i'][iev][data['tag_times'][iev,data['tag_values'][iev]==1]],s=0.6,color='r')\n",
    "plt.scatter(data['tag_times'][iev,data['tag_values'][iev]==2],data['wf_i'][iev][data['tag_times'][iev,data['tag_values'][iev]==2]],s=0.4,color='g')\n",
    "plt.ylim(0)"
   ]
  }
 ],
 "metadata": {
  "@webio": {
   "lastCommId": null,
   "lastKernelId": null
  },
  "kernelspec": {
   "display_name": "Python [conda env:base] *",
   "language": "python",
   "name": "conda-base-py"
  },
  "language_info": {
   "codemirror_mode": {
    "name": "ipython",
    "version": 3
   },
   "file_extension": ".py",
   "mimetype": "text/x-python",
   "name": "python",
   "nbconvert_exporter": "python",
   "pygments_lexer": "ipython3",
   "version": "3.12.9"
  }
 },
 "nbformat": 4,
 "nbformat_minor": 5
}
